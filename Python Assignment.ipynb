{
 "cells": [
  {
   "cell_type": "code",
   "execution_count": 4,
   "metadata": {},
   "outputs": [
    {
     "name": "stdout",
     "output_type": "stream",
     "text": [
      "Twinkle, twinkle, little star,\n",
      "\tHow I wonder what you are!\n",
      "\t\tUp above the world so high,\n",
      "\t\tLike a diamond in the sky.\n",
      "Twinkle, twinkle, little star,\n",
      "\tHow I wonder what you are\n"
     ]
    }
   ],
   "source": [
    "# Task 1\n",
    "\n",
    "Line1 = \"Twinkle, twinkle, little star,\"\n",
    "Line2 = \"\\n\\tHow I wonder what you are!\"\n",
    "Line3 = \"\\n\\t\\tUp above the world so high,\"\n",
    "Line4 = \"\\n\\t\\tLike a diamond in the sky.\"\n",
    "Line5 = \"\\nTwinkle, twinkle, little star,\"\n",
    "Line6 = \"\\n\\tHow I wonder what you are\"\n",
    "print(Line1 +Line2+Line3+Line4+Line5+Line6)"
   ]
  },
  {
   "cell_type": "code",
   "execution_count": 3,
   "metadata": {},
   "outputs": [
    {
     "name": "stdout",
     "output_type": "stream",
     "text": [
      "Enter your Firstname Zain\n",
      "Enter your Lastname Qazi\n",
      "Reverse name is Qazi Zain\n"
     ]
    }
   ],
   "source": [
    "# Task 2\n",
    "\n",
    "import platform\n",
    "print(\"Python Version is: \"+platform.python_version())"
   ]
  },
  {
   "cell_type": "code",
   "execution_count": 14,
   "metadata": {},
   "outputs": [
    {
     "name": "stdout",
     "output_type": "stream",
     "text": [
      "Current date\n",
      "2019-11-05\n",
      "Current Time\n",
      "09:54:55\n"
     ]
    }
   ],
   "source": [
    "# Task 3\n",
    "\n",
    "import datetime\n",
    "now = datetime.datetime.now()\n",
    "print (\"Current date\")\n",
    "print (now.strftime(\"%Y-%m-%d\"))\n",
    "print (\"Current Time\")\n",
    "print (now.strftime(\"%H:%M:%S\"))"
   ]
  },
  {
   "cell_type": "code",
   "execution_count": 8,
   "metadata": {},
   "outputs": [
    {
     "name": "stdout",
     "output_type": "stream",
     "text": [
      "Input the radius of the circle : 2\n",
      "The area of the circle  is: 12.566370614359172\n"
     ]
    }
   ],
   "source": [
    "# Task 4\n",
    "\n",
    "from math import pi\n",
    "radius = float(input (\"Input the radius of the circle : \"))\n",
    "print (\"The area of the circle \" + \" is: \" + str(pi * radius**2))"
   ]
  },
  {
   "cell_type": "code",
   "execution_count": 10,
   "metadata": {},
   "outputs": [
    {
     "name": "stdout",
     "output_type": "stream",
     "text": [
      "Enter your Firstname Zain\n",
      "Enter your Lastname Qazi\n",
      "Reverse name is Qazi Zain\n"
     ]
    }
   ],
   "source": [
    "# Task 5\n",
    "\n",
    "Firstname = input(\"Enter your Firstname \")\n",
    "Lastname = input(\"Enter your Lastname \")\n",
    "print(\"Reverse name is \"+Lastname+\" \"+Firstname)"
   ]
  },
  {
   "cell_type": "code",
   "execution_count": 15,
   "metadata": {},
   "outputs": [
    {
     "name": "stdout",
     "output_type": "stream",
     "text": [
      "Enter first num 2\n",
      "Enter 2nd num 3\n",
      "Addition is: 5.0\n"
     ]
    }
   ],
   "source": [
    "# Task 6\n",
    "\n",
    "Number1 = float(input(\"Enter first num \"))\n",
    "Number2 = float(input(\"Enter 2nd num \"))\n",
    "print(\"Addition is: \"+str(Number1+Number2))"
   ]
  }
 ],
 "metadata": {
  "kernelspec": {
   "display_name": "Python 3",
   "language": "python",
   "name": "python3"
  },
  "language_info": {
   "codemirror_mode": {
    "name": "ipython",
    "version": 3
   },
   "file_extension": ".py",
   "mimetype": "text/x-python",
   "name": "python",
   "nbconvert_exporter": "python",
   "pygments_lexer": "ipython3",
   "version": "3.7.4"
  }
 },
 "nbformat": 4,
 "nbformat_minor": 2
}
